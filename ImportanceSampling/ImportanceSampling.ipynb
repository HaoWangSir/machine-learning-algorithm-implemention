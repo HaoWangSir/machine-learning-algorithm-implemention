{
 "cells": [
  {
   "cell_type": "markdown",
   "metadata": {},
   "source": [
    "Importance Sampling\n",
    "---\n",
    "Using sampling to approximate a distribution\n",
    "$$E[f(x)] = \\int f(x)p(x) dx = \\int f(x)\\frac{p(x)}{q(x)}q(x) dx \\approx \\frac{1}{n} \\sum_{i} f(x_i)\\frac{p(x_i)}{q(x_i)}$$\n",
    "\n",
    "where $ x \\sim q(x)$\n",
    "\n",
    "Idea of importance sampling: draw the sample from a proposal distribution and re-weight the integral using importance weights so that the correct distribution is targeted\n",
    "\n",
    "$$Var(X) = E[X^2] - E[X]^2$$\n",
    "\n",
    "**Reference**\n",
    "\n",
    "- [1](https://www.youtube.com/watch?v=3Mw6ivkDVZc)\n",
    "- [2](https://astrostatistics.psu.edu/su14/lectures/cisewski_is.pdf)"
   ]
  },
  {
   "cell_type": "code",
   "execution_count": 1,
   "metadata": {},
   "outputs": [],
   "source": [
    "import numpy as np\n",
    "import matplotlib.pyplot as plt"
   ]
  },
  {
   "cell_type": "code",
   "execution_count": 27,
   "metadata": {},
   "outputs": [],
   "source": [
    "def f_x(x):\n",
    "    return 1/(1 + np.exp(-x))"
   ]
  },
  {
   "cell_type": "code",
   "execution_count": 28,
   "metadata": {},
   "outputs": [
    {
     "data": {
      "text/plain": [
       "[<matplotlib.lines.Line2D at 0x110c5eeb8>]"
      ]
     },
     "execution_count": 28,
     "metadata": {},
     "output_type": "execute_result"
    },
    {
     "data": {
      "image/png": "[encoded data removed]",
      "text/plain": [
       "<Figure size 432x288 with 1 Axes>"
      ]
     },
     "metadata": {},
     "output_type": "display_data"
    }
   ],
   "source": [
    "x = np.linspace(0, 4, 50)\n",
    "y = [f_x(i) for i in x]\n",
    "\n",
    "plt.plot(x, y)"
   ]
  },
  {
   "cell_type": "code",
   "execution_count": 14,
   "metadata": {},
   "outputs": [],
   "source": [
    "def p_x(size=100):\n",
    "    x = [np.random.normal(3.5, 0.5) for _ in range(size)]\n",
    "    return x"
   ]
  },
  {
   "cell_type": "code",
   "execution_count": 17,
   "metadata": {},
   "outputs": [
    {
     "data": {
      "text/plain": [
       "(array([0.04445331, 0.04445331, 0.11113328, 0.06667997, 0.24449323,\n",
       "        0.26671988, 0.55566642, 0.64457305, 0.66679971, 0.80015965,\n",
       "        0.77793299, 0.82238631, 0.71125302, 0.28894654, 0.33339985,\n",
       "        0.11113328, 0.13335994, 0.02222666, 0.        , 0.02222666]),\n",
       " array([2.04283514, 2.19280521, 2.34277529, 2.49274536, 2.64271543,\n",
       "        2.7926855 , 2.94265557, 3.09262564, 3.24259572, 3.39256579,\n",
       "        3.54253586, 3.69250593, 3.842476  , 3.99244607, 4.14241614,\n",
       "        4.29238622, 4.44235629, 4.59232636, 4.74229643, 4.8922665 ,\n",
       "        5.04223657]),\n",
       " <a list of 20 Patch objects>)"
      ]
     },
     "execution_count": 17,
     "metadata": {},
     "output_type": "execute_result"
    },
    {
     "data": {
      "image/png": "[encoded data removed]",
      "text/plain": [
       "<Figure size 432x288 with 1 Axes>"
      ]
     },
     "metadata": {},
     "output_type": "display_data"
    }
   ],
   "source": [
    "x = p_x(size=300)\n",
    "plt.hist(x, bins=20, density=True)"
   ]
  },
  {
   "cell_type": "code",
   "execution_count": 29,
   "metadata": {},
   "outputs": [
    {
     "data": {
      "text/plain": [
       "3.4736351811374506"
      ]
     },
     "execution_count": 29,
     "metadata": {},
     "output_type": "execute_result"
    }
   ],
   "source": [
    "s = 0\n",
    "for i in range(100):\n",
    "    s += p_x(size=1)[0]*f_x(i)\n",
    "    \n",
    "s/100"
   ]
  },
  {
   "cell_type": "code",
   "execution_count": 23,
   "metadata": {},
   "outputs": [
    {
     "data": {
      "text/plain": [
       "6.278456587050583e+43"
      ]
     },
     "execution_count": 23,
     "metadata": {},
     "output_type": "execute_result"
    }
   ],
   "source": [
    "s"
   ]
  },
  {
   "cell_type": "code",
   "execution_count": null,
   "metadata": {},
   "outputs": [],
   "source": []
  }
 ],
 "metadata": {
  "kernelspec": {
   "display_name": "Python 3",
   "language": "python",
   "name": "python3"
  },
  "language_info": {
   "codemirror_mode": {
    "name": "ipython",
    "version": 3
   },
   "file_extension": ".py",
   "mimetype": "text/x-python",
   "name": "python",
   "nbconvert_exporter": "python",
   "pygments_lexer": "ipython3",
   "version": "3.6.5"
  }
 },
 "nbformat": 4,
 "nbformat_minor": 2
}
